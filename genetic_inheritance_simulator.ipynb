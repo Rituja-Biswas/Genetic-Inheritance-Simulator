{
  "nbformat": 4,
  "nbformat_minor": 0,
  "metadata": {
    "colab": {
      "provenance": []
    },
    "kernelspec": {
      "name": "python3",
      "display_name": "Python 3"
    },
    "language_info": {
      "name": "python"
    }
  },
  "cells": [
    {
      "cell_type": "code",
      "execution_count": null,
      "metadata": {
        "id": "XWEcmqfZeS1j"
      },
      "outputs": [],
      "source": [
        "import pandas as pd\n",
        "import random"
      ]
    },
    {
      "cell_type": "markdown",
      "source": [
        "# **monohybrid cross**"
      ],
      "metadata": {
        "id": "2SL2H4gbe62b"
      }
    },
    {
      "cell_type": "code",
      "source": [
        "def monohybrid_cross(parent1, parent2):\n",
        "    offspring = []\n",
        "    for p1 in parent1:\n",
        "        for p2 in parent2:\n",
        "            offspring.append([p1, p2])\n",
        "    return offspring"
      ],
      "metadata": {
        "id": "ybyEvQNDe3tZ"
      },
      "execution_count": null,
      "outputs": []
    },
    {
      "cell_type": "markdown",
      "source": [
        "# **dihybrid cross**"
      ],
      "metadata": {
        "id": "CrhAE2-qfEzK"
      }
    },
    {
      "cell_type": "code",
      "source": [
        "def dihybrid_cross(parent1, parent2):\n",
        "    offspring = []\n",
        "    for p1 in parent1:\n",
        "        for p2 in parent2:\n",
        "            offspring.append([p1, p2])\n",
        "    return offspring\n"
      ],
      "metadata": {
        "id": "SkKIVRbde34d"
      },
      "execution_count": null,
      "outputs": []
    },
    {
      "cell_type": "markdown",
      "source": [
        "# **monohybrid cross dataset (Aa x Aa)**"
      ],
      "metadata": {
        "id": "AuDtAo_sfQV9"
      }
    },
    {
      "cell_type": "code",
      "source": [
        "parent1 = ['A', 'a']\n",
        "parent2 = ['A', 'a']\n",
        "monohybrid = monohybrid_cross(parent1, parent2)"
      ],
      "metadata": {
        "id": "frtB1GkffUQk"
      },
      "execution_count": null,
      "outputs": []
    },
    {
      "cell_type": "markdown",
      "source": [
        "# **dihybrid cross dataset (AaBb x AaBb)**"
      ],
      "metadata": {
        "id": "ML60WRujfZRP"
      }
    },
    {
      "cell_type": "code",
      "source": [
        "parent1 = ['AB', 'Ab', 'aB', 'ab']\n",
        "parent2 = ['AB', 'Ab', 'aB', 'ab']\n",
        "dihybrid = dihybrid_cross(parent1, parent2)\n"
      ],
      "metadata": {
        "id": "Bp-m-hqFfd0M"
      },
      "execution_count": null,
      "outputs": []
    },
    {
      "cell_type": "markdown",
      "source": [
        "# **DATAFRAME**"
      ],
      "metadata": {
        "id": "caM0LN1kflCR"
      }
    },
    {
      "cell_type": "code",
      "source": [
        "monohybrid_df = pd.DataFrame(monohybrid, columns=['Parent 1', 'Parent 2'])\n",
        "dihybrid_df = pd.DataFrame(dihybrid, columns=['Parent 1', 'Parent 2'])"
      ],
      "metadata": {
        "id": "pTDvojMwfeDl"
      },
      "execution_count": null,
      "outputs": []
    },
    {
      "cell_type": "code",
      "source": [
        "monohybrid_df.to_csv('monohybrid.csv', index=False)\n",
        "dihybrid_df.to_csv('dihybrid.csv', index=False)\n"
      ],
      "metadata": {
        "id": "JQond-33ft8i"
      },
      "execution_count": null,
      "outputs": []
    },
    {
      "cell_type": "code",
      "source": [
        "print(\"Monohybrid Cross:\")"
      ],
      "metadata": {
        "colab": {
          "base_uri": "https://localhost:8080/"
        },
        "id": "_L2c5z-lfeKV",
        "outputId": "91ae7951-88e7-4ee4-8b31-dbc1b67b362f"
      },
      "execution_count": null,
      "outputs": [
        {
          "output_type": "stream",
          "name": "stdout",
          "text": [
            "Monohybrid Cross:\n"
          ]
        }
      ]
    },
    {
      "cell_type": "code",
      "source": [
        "print(monohybrid_df)"
      ],
      "metadata": {
        "colab": {
          "base_uri": "https://localhost:8080/"
        },
        "id": "bQaCaXRMf3Vv",
        "outputId": "42b0760c-dff6-47f8-af42-0582be09ced5"
      },
      "execution_count": null,
      "outputs": [
        {
          "output_type": "stream",
          "name": "stdout",
          "text": [
            "  Parent 1 Parent 2\n",
            "0        A        A\n",
            "1        A        a\n",
            "2        a        A\n",
            "3        a        a\n"
          ]
        }
      ]
    },
    {
      "cell_type": "code",
      "source": [
        "print(\"\\nDihybrid Cross:\")\n",
        "print(dihybrid_df)"
      ],
      "metadata": {
        "colab": {
          "base_uri": "https://localhost:8080/"
        },
        "id": "2DLocwymf3cD",
        "outputId": "c1f4b6d7-70dc-40b6-e477-384b1407df80"
      },
      "execution_count": null,
      "outputs": [
        {
          "output_type": "stream",
          "name": "stdout",
          "text": [
            "\n",
            "Dihybrid Cross:\n",
            "   Parent 1 Parent 2\n",
            "0        AB       AB\n",
            "1        AB       Ab\n",
            "2        AB       aB\n",
            "3        AB       ab\n",
            "4        Ab       AB\n",
            "5        Ab       Ab\n",
            "6        Ab       aB\n",
            "7        Ab       ab\n",
            "8        aB       AB\n",
            "9        aB       Ab\n",
            "10       aB       aB\n",
            "11       aB       ab\n",
            "12       ab       AB\n",
            "13       ab       Ab\n",
            "14       ab       aB\n",
            "15       ab       ab\n"
          ]
        }
      ]
    },
    {
      "cell_type": "code",
      "source": [],
      "metadata": {
        "id": "fDEzY4Rxf3ri"
      },
      "execution_count": null,
      "outputs": []
    }
  ]
}